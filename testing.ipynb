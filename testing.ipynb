{
 "cells": [
  {
   "cell_type": "code",
   "execution_count": 1,
   "metadata": {},
   "outputs": [
    {
     "name": "stdout",
     "output_type": "stream",
     "text": [
      "\n",
      "----------------\n",
      "hi James\n",
      "----------------\n",
      "\n"
     ]
    }
   ],
   "source": [
    "from kabbes_repository_manager import Repos\n"
   ]
  },
  {
   "cell_type": "code",
   "execution_count": 2,
   "metadata": {},
   "outputs": [],
   "source": [
    "r = Repos()"
   ]
  },
  {
   "cell_type": "code",
   "execution_count": 4,
   "metadata": {},
   "outputs": [],
   "source": [
    "up = r.Repos['user_profile']"
   ]
  },
  {
   "cell_type": "code",
   "execution_count": 11,
   "metadata": {},
   "outputs": [
    {
     "data": {
      "text/plain": [
       "[<git.Remote \"origin\">]"
      ]
     },
     "execution_count": 11,
     "metadata": {},
     "output_type": "execute_result"
    }
   ],
   "source": [
    "up.remotes"
   ]
  },
  {
   "cell_type": "code",
   "execution_count": 8,
   "metadata": {},
   "outputs": [
    {
     "data": {
      "text/plain": [
       "[<git.Head \"refs/heads/0.2.0\">,\n",
       " <git.Head \"refs/heads/0.3.0\">,\n",
       " <git.Head \"refs/heads/0.4.0\">,\n",
       " <git.Head \"refs/heads/0.5.0\">,\n",
       " <git.Head \"refs/heads/0.6.0\">,\n",
       " <git.Head \"refs/heads/0.7.0\">,\n",
       " <git.Head \"refs/heads/0.8.0\">,\n",
       " <git.Head \"refs/heads/gh-pages\">,\n",
       " <git.Head \"refs/heads/main\">]"
      ]
     },
     "execution_count": 8,
     "metadata": {},
     "output_type": "execute_result"
    }
   ],
   "source": [
    "up.branches"
   ]
  },
  {
   "cell_type": "code",
   "execution_count": 29,
   "metadata": {},
   "outputs": [
    {
     "name": "stdout",
     "output_type": "stream",
     "text": [
      "__abstractmethods__\n",
      "__annotations__\n",
      "__class__\n",
      "__class_getitem__\n",
      "__delattr__\n",
      "__dict__\n",
      "__dir__\n",
      "__doc__\n",
      "__eq__\n",
      "__format__\n",
      "__ge__\n",
      "__getattr__\n",
      "__getattribute__\n",
      "__gt__\n",
      "__hash__\n",
      "__init__\n",
      "__init_subclass__\n",
      "__le__\n",
      "__lt__\n",
      "__module__\n",
      "__ne__\n",
      "__new__\n",
      "__parameters__\n",
      "__reduce__\n",
      "__reduce_ex__\n",
      "__repr__\n",
      "__setattr__\n",
      "__sizeof__\n",
      "__slots__\n",
      "__str__\n",
      "__subclasshook__\n",
      "__weakref__\n",
      "_abc_impl\n",
      "_common_path_default\n",
      "_config_parser\n",
      "_create\n",
      "_get_commit\n",
      "_get_object\n",
      "_get_packed_refs_path\n",
      "_get_ref_info\n",
      "_get_ref_info_helper\n",
      "_get_reference\n",
      "_id_attribute_\n",
      "_is_protocol\n",
      "_is_runtime_protocol\n",
      "_iter_items\n",
      "_iter_packed_refs\n",
      "_points_to_commits_only\n",
      "_remote_common_path_default\n",
      "_resolve_ref_on_create\n",
      "_set_cache_\n",
      "abspath\n",
      "checkout\n",
      "commit\n",
      "config_reader\n",
      "config_writer\n",
      "create\n",
      "delete\n",
      "dereference_recursive\n",
      "from_path\n",
      "is_detached\n",
      "is_remote\n",
      "is_valid\n",
      "iter_items\n",
      "k_config_remote\n",
      "k_config_remote_ref\n",
      "list_items\n",
      "log\n",
      "log_append\n",
      "log_entry\n",
      "name\n",
      "object\n",
      "path\n",
      "ref\n",
      "reference\n",
      "remote_head\n",
      "remote_name\n",
      "rename\n",
      "repo\n",
      "set_commit\n",
      "set_object\n",
      "set_reference\n",
      "set_tracking_branch\n",
      "to_full_path\n",
      "tracking_branch\n"
     ]
    }
   ],
   "source": [
    "for i in dir( up.branches[ 0 ] ):\n",
    "    print (i)"
   ]
  },
  {
   "cell_type": "code",
   "execution_count": 14,
   "metadata": {},
   "outputs": [
    {
     "name": "stdout",
     "output_type": "stream",
     "text": [
      "DAEMON_EXPORT_FILE\n",
      "Dir\n",
      "GitCommandWrapperType\n",
      "OPTIONS\n",
      "RTI\n",
      "Remotes\n",
      "Repos\n",
      "_BASE_OPTIONS\n",
      "_Children\n",
      "_IMP_ATTS\n",
      "_ONE_LINE_ATTS\n",
      "_OVERRIDE_OPTIONS\n",
      "_SEARCHABLE_ATTS\n",
      "__annotations__\n",
      "__class__\n",
      "__del__\n",
      "__delattr__\n",
      "__dict__\n",
      "__dir__\n",
      "__doc__\n",
      "__enter__\n",
      "__eq__\n",
      "__exit__\n",
      "__format__\n",
      "__ge__\n",
      "__getattribute__\n",
      "__gt__\n",
      "__hash__\n",
      "__init__\n",
      "__init_subclass__\n",
      "__iter__\n",
      "__le__\n",
      "__len__\n",
      "__lt__\n",
      "__module__\n",
      "__ne__\n",
      "__new__\n",
      "__next__\n",
      "__reduce__\n",
      "__reduce_ex__\n",
      "__repr__\n",
      "__setattr__\n",
      "__sizeof__\n",
      "__str__\n",
      "__subclasshook__\n",
      "__weakref__\n",
      "_bare\n",
      "_clone\n",
      "_common_dir\n",
      "_get_alternates\n",
      "_get_config_path\n",
      "_get_untracked_files\n",
      "_print_atts_helper\n",
      "_print_imp_atts_helper\n",
      "_print_one_line_atts_helper\n",
      "_set_alternates\n",
      "_to_full_tag_path\n",
      "_working_tree_dir\n",
      "active_branch\n",
      "alternates\n",
      "archive\n",
      "bare\n",
      "blame\n",
      "blame_incremental\n",
      "branches\n",
      "clone\n",
      "clone_from\n",
      "close\n",
      "commit\n",
      "common_dir\n",
      "config_level\n",
      "config_reader\n",
      "config_writer\n",
      "create_head\n",
      "create_remote\n",
      "create_submodule\n",
      "create_tag\n",
      "currently_rebasing_on\n",
      "daemon_export\n",
      "delete_head\n",
      "delete_remote\n",
      "delete_tag\n",
      "description\n",
      "display\n",
      "do_nothing\n",
      "exit\n",
      "format_string_by_atts\n",
      "get_Child_user\n",
      "get_attr\n",
      "get_atts\n",
      "git\n",
      "git_dir\n",
      "has_attr\n",
      "has_atts\n",
      "has_separate_working_tree\n",
      "head\n",
      "heads\n",
      "ignored\n",
      "index\n",
      "init\n",
      "is_ancestor\n",
      "is_dirty\n",
      "is_valid_object\n",
      "iter_commits\n",
      "iter_submodules\n",
      "iter_trees\n",
      "merge_base\n",
      "odb\n",
      "post_run\n",
      "pre_run\n",
      "print_all_atts\n",
      "print_atts\n",
      "print_class_type\n",
      "print_imp_atts\n",
      "print_one_line_atts\n",
      "print_string\n",
      "re_author_committer_start\n",
      "re_envvars\n",
      "re_hexsha_only\n",
      "re_hexsha_shortened\n",
      "re_tab_full_line\n",
      "re_whitespace\n",
      "references\n",
      "refs\n",
      "remote\n",
      "remotes\n",
      "repo_name\n",
      "rev_parse\n",
      "run\n",
      "run_Child_user\n",
      "run_RTI_choice\n",
      "run_method\n",
      "run_method_user\n",
      "set_attr\n",
      "set_atts\n",
      "string_found_in_Children\n",
      "submodule\n",
      "submodule_update\n",
      "submodules\n",
      "tag\n",
      "tags\n",
      "tree\n",
      "type\n",
      "untracked_files\n",
      "url_clone\n",
      "url_nav\n",
      "working_dir\n",
      "working_tree_dir\n"
     ]
    }
   ],
   "source": [
    "for i in dir(up):\n",
    "    print (i)"
   ]
  }
 ],
 "metadata": {
  "kernelspec": {
   "display_name": "Python 3.9.7 ('analytics')",
   "language": "python",
   "name": "python3"
  },
  "language_info": {
   "codemirror_mode": {
    "name": "ipython",
    "version": 3
   },
   "file_extension": ".py",
   "mimetype": "text/x-python",
   "name": "python",
   "nbconvert_exporter": "python",
   "pygments_lexer": "ipython3",
   "version": "3.9.7"
  },
  "orig_nbformat": 4,
  "vscode": {
   "interpreter": {
    "hash": "3fe52bc77177b2b61462ca24a7371601f5ce5736444e6ebecf84f29ab34cc624"
   }
  }
 },
 "nbformat": 4,
 "nbformat_minor": 2
}
